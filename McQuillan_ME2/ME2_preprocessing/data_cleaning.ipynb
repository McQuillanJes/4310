{
 "cells": [
  {
   "cell_type": "markdown",
   "metadata": {},
   "source": [
    "# ME2\n",
    "\n",
    "\n",
    "## Preprocessing Data: Data Clearning"
   ]
  },
  {
   "cell_type": "markdown",
   "metadata": {},
   "source": [
    "#### Write full names of your team members who worked together.\n",
    "\n",
    "\n",
    "\n",
    "\n",
    "#### Submission:\n",
    "\n",
    "- Push the completed code to your Github repository.\n",
    "\n",
    "- Check submission details in Canvas. "
   ]
  },
  {
   "cell_type": "markdown",
   "metadata": {},
   "source": [
    "### Handing missing data and invalid data\n",
    "\n",
    "Handling missing data is important as many machine learning algorithms do not support data with missing values. Our main objectives: \n",
    "\n",
    "- How to marking invalid or corrupt values as missing in a dataset.\n",
    "\n",
    "- How to remove rows with missing data from a dataset.\n",
    "\n",
    "- How to impute missing values with mean values in a dataset.\n",
    "\n",
    "#### Two examples below will show the data cleaning process. \n",
    "\n",
    "- Learn from the examples by going through each cell.\n",
    "\n",
    "- Apply the learn tools to conduct preprocessing a new dataset. \n",
    "\n",
    "\n",
    "See the more details:\n",
    "\n",
    "- Working with mssing data, in Pandas: \n",
    "\n",
    "https://pandas.pydata.org/pandas-docs/stable/user_guide/missing_data.html\n",
    "\n",
    "- How to inteporate the data, in Pandas: \n",
    "\n",
    "https://pandas.pydata.org/pandas-docs/stable/reference/api/pandas.Series.interpolate.html\n",
    "\n",
    "- Imputation of missing values, in Scikit-learn: \n",
    "\n",
    "https://scikit-learn.org/stable/modules/impute.html#impute\n",
    "\n",
    "\n",
    "*** Notes: It is import to read the Pandas and Scikit-learn libraries for their functions and examples before you use them.\n",
    "\n"
   ]
  },
  {
   "cell_type": "markdown",
   "metadata": {},
   "source": [
    "### A simple example: filling in missing data using Pandas"
   ]
  },
  {
   "cell_type": "code",
   "execution_count": 7,
   "metadata": {},
   "outputs": [],
   "source": [
    "# Library import\n",
    "import numpy as np\n",
    "import pandas as pd\n",
    "from sklearn import preprocessing\n",
    "import matplotlib.pyplot as plt\n",
    "from IPython.core.interactiveshell import InteractiveShell\n",
    "InteractiveShell.ast_node_interactivity = 'all'"
   ]
  },
  {
   "cell_type": "code",
   "execution_count": 2,
   "metadata": {},
   "outputs": [
    {
     "name": "stdout",
     "output_type": "stream",
     "text": [
      "         time    user       video  playback position paused  volume\n",
      "0  1469974424  cheryl  intro.html                  5  False    10.0\n",
      "1  1469974454  cheryl  intro.html                  6    NaN     NaN\n",
      "2  1469974544  cheryl  intro.html                  9    NaN     NaN\n",
      "3  1469974574  cheryl  intro.html                 10    NaN     NaN\n",
      "4  1469977514     bob  intro.html                  1    NaN     NaN\n",
      "          time    user       video  playback position paused  volume\n",
      "28  1469977664     bob  intro.html                  1    NaN     NaN\n",
      "29  1469974634  cheryl  intro.html                 12    NaN     NaN\n",
      "30  1469974664  cheryl  intro.html                 13    NaN     NaN\n",
      "31  1469977694     bob  intro.html                  1    NaN     NaN\n",
      "32  1469977724     bob  intro.html                  1    NaN     NaN\n"
     ]
    }
   ],
   "source": [
    "# Load the data\n",
    "# data file is located in folder data\n",
    "df = pd.read_csv('./data/log.csv')\n",
    "print(df.head())\n",
    "print(df.tail())"
   ]
  },
  {
   "cell_type": "code",
   "execution_count": 3,
   "metadata": {},
   "outputs": [
    {
     "name": "stdout",
     "output_type": "stream",
     "text": [
      "              user          video  playback position paused  volume\n",
      "time                                                               \n",
      "1469974424  cheryl     intro.html                  5  False    10.0\n",
      "1469974424     sue  advanced.html                 23  False    10.0\n",
      "1469974454  cheryl     intro.html                  6    NaN     NaN\n",
      "1469974454     sue  advanced.html                 24    NaN     NaN\n",
      "1469974484  cheryl     intro.html                  7    NaN     NaN\n"
     ]
    }
   ],
   "source": [
    "# you can make index\n",
    "df = df.set_index('time')\n",
    "df = df.sort_index()\n",
    "print(df.head())"
   ]
  },
  {
   "cell_type": "code",
   "execution_count": 4,
   "metadata": {},
   "outputs": [
    {
     "name": "stdout",
     "output_type": "stream",
     "text": [
      "                           video  playback position paused  volume\n",
      "time       user                                                   \n",
      "1469974424 cheryl     intro.html                  5  False    10.0\n",
      "           sue     advanced.html                 23  False    10.0\n",
      "1469974454 cheryl     intro.html                  6    NaN     NaN\n",
      "           sue     advanced.html                 24    NaN     NaN\n",
      "1469974484 cheryl     intro.html                  7    NaN     NaN\n"
     ]
    }
   ],
   "source": [
    "# reset index\n",
    "df = df.reset_index()\n",
    "df = df.set_index(['time', 'user'])\n",
    "print(df.head())"
   ]
  },
  {
   "cell_type": "code",
   "execution_count": 5,
   "metadata": {},
   "outputs": [
    {
     "name": "stdout",
     "output_type": "stream",
     "text": [
      "                           video  playback position  paused  volume\n",
      "time       user                                                    \n",
      "1469974424 cheryl     intro.html                  5   False    10.0\n",
      "           sue     advanced.html                 23   False    10.0\n",
      "1469974454 cheryl     intro.html                  6   False    10.0\n",
      "           sue     advanced.html                 24   False    10.0\n",
      "1469974484 cheryl     intro.html                  7   False    10.0\n",
      "                      video  playback position  paused  volume\n",
      "time       user                                               \n",
      "1469977604 bob   intro.html                  1    True    10.0\n",
      "1469977634 bob   intro.html                  1    True    10.0\n",
      "1469977664 bob   intro.html                  1    True    10.0\n",
      "1469977694 bob   intro.html                  1    True    10.0\n",
      "1469977724 bob   intro.html                  1    True    10.0\n"
     ]
    }
   ],
   "source": [
    "# replace Nan with default value (previos value is used to fill in)\n",
    "df = df.fillna(method='ffill')\n",
    "print(df.head())\n",
    "print(df.tail())"
   ]
  },
  {
   "cell_type": "markdown",
   "metadata": {},
   "source": [
    "## Part 0\n",
    "### Data Clearning Exercise"
   ]
  },
  {
   "cell_type": "markdown",
   "metadata": {},
   "source": [
    "Pima Indians Diabetes Dataset: where we look at a dataset that has known missing values.\n",
    "Mark Missing Values: where we learn how to mark missing values in a dataset.\n",
    "Missing Values Causes Problems: where we see how a machine learning algorithm can fail when it contains missing values.\n",
    "Remove Rows With Missing Values: where we see how to remove rows that contain missing values.\n",
    "Impute Missing Values: where we replace missing values with sensible values.\n",
    "Algorithms that Support Missing Values: where we learn about algorithms that support missing values.\n",
    "\n",
    "1. Pima Indians Diabetes Dataset: where we look at a dataset that has known missing values.\n",
    "2. Mark Missing Values: where we learn how to mark missing values in a dataset.\n",
    "3. Missing Values Causes Problems: where we see how a machine learning algorithm can fail when it contains missing values.\n",
    "4. Remove Rows With Missing Values: where we see how to remove rows that contain missing values.\n",
    "5. Impute Missing Values: where we replace missing values with sensible values.\n",
    "6. Algorithms that Support Missing Values: where we learn about algorithms that support missing values."
   ]
  },
  {
   "cell_type": "markdown",
   "metadata": {},
   "source": [
    "### 1. Dataset\n",
    "#### Working with Pima indians diabetes dataset\n",
    "\n",
    "\n",
    "\n",
    "#### In the folder of \"data\", you can find the follwoing files from folder data:\n",
    "\n",
    "- pima-indians-diabetes.csv\n",
    "\n",
    "- pima-indians-diabetes.names\n",
    "\n",
    "Both can be opend in Jupyter notebook\n",
    "\n",
    "#### Open the data file and look at the data. Also read readme.txt for data descrption. "
   ]
  },
  {
   "cell_type": "markdown",
   "metadata": {},
   "source": [
    "The Pima Indians Diabetes Dataset involves predicting the onset of diabetes within 5 years in Pima Indians given medical details.\n",
    "\n",
    "It is a binary (2-class) classification problem. The number of observations for each class is not balanced. There are 768 observations with 8 input variables and 1 output variable. The variable names are as follows:\n",
    "\n",
    "0. Number of times pregnant.\n",
    "1. Plasma glucose concentration a 2 hours in an oral glucose tolerance test.\n",
    "2. Diastolic blood pressure (mm Hg).\n",
    "3. Triceps skinfold thickness (mm).\n",
    "4. 2-Hour serum insulin (mu U/ml).\n",
    "5. Body mass index (weight in kg/(height in m)^2).\n",
    "6. Diabetes pedigree function.\n",
    "7. Age (years).\n",
    "8. Class variable (0 or 1).\n",
    "\n",
    "The baseline performance of predicting the most prevalent class is a classification accuracy of approximately 65%. Top results achieve a classification accuracy of approximately 77%."
   ]
  },
  {
   "attachments": {
    "image.png": {
     "image/png": "[encoded data removed]"
    }
   },
   "cell_type": "markdown",
   "metadata": {},
   "source": [
    "A sample of the first 5 rows is listed below.\n",
    "\n",
    "![image.png](attachment:image.png)\n",
    "\n",
    "This dataset is known to have missing values. Specifically, there are missing observations for some columns that are marked as a zero value.\n",
    "\n",
    "We can corroborate this by the definition of those columns and the domain knowledge that a zero value is invalid for those measures, e.g. a zero for body mass index or blood pressure is invalid."
   ]
  },
  {
   "cell_type": "markdown",
   "metadata": {},
   "source": [
    "### 2. Mark Missing Values\n",
    "\n",
    "we will look at how we can identify and mark values as missing.\n",
    "\n",
    "We can use plots and summary statistics to help identify missing or corrupt data.\n",
    "\n",
    "We can load the dataset as a Pandas DataFrame and print summary statistics on each attribute."
   ]
  },
  {
   "cell_type": "code",
   "execution_count": 6,
   "metadata": {},
   "outputs": [
    {
     "name": "stdout",
     "output_type": "stream",
     "text": [
      "                0           1           2           3           4           5  \\\n",
      "count  768.000000  768.000000  768.000000  768.000000  768.000000  768.000000   \n",
      "mean     3.845052  120.894531   69.105469   20.536458   79.799479   31.992578   \n",
      "std      3.369578   31.972618   19.355807   15.952218  115.244002    7.884160   \n",
      "min      0.000000    0.000000    0.000000    0.000000    0.000000    0.000000   \n",
      "25%      1.000000   99.000000   62.000000    0.000000    0.000000   27.300000   \n",
      "50%      3.000000  117.000000   72.000000   23.000000   30.500000   32.000000   \n",
      "75%      6.000000  140.250000   80.000000   32.000000  127.250000   36.600000   \n",
      "max     17.000000  199.000000  122.000000   99.000000  846.000000   67.100000   \n",
      "\n",
      "                6           7           8  \n",
      "count  768.000000  768.000000  768.000000  \n",
      "mean     0.471876   33.240885    0.348958  \n",
      "std      0.331329   11.760232    0.476951  \n",
      "min      0.078000   21.000000    0.000000  \n",
      "25%      0.243750   24.000000    0.000000  \n",
      "50%      0.372500   29.000000    0.000000  \n",
      "75%      0.626250   41.000000    1.000000  \n",
      "max      2.420000   81.000000    1.000000  \n"
     ]
    }
   ],
   "source": [
    "df = pd.read_csv('./data/pima-indians-diabetes.csv', header=None)\n",
    "\n",
    "print(df.describe())\n",
    "            "
   ]
  },
  {
   "cell_type": "markdown",
   "metadata": {},
   "source": [
    "We can see that there are columns that have a minimum value of zero (0). On some columns, a value of zero does not make sense and indicates an invalid or missing value.\n",
    "\n",
    "Specifically, the following columns have an invalid zero minimum value:\n",
    "\n",
    "1: Plasma glucose concentration\n",
    "\n",
    "2: Diastolic blood pressure\n",
    "\n",
    "3: Triceps skinfold thickness\n",
    "\n",
    "4: 2-Hour serum insulin\n",
    "\n",
    "5: Body mass index"
   ]
  },
  {
   "cell_type": "code",
   "execution_count": 7,
   "metadata": {},
   "outputs": [
    {
     "name": "stdout",
     "output_type": "stream",
     "text": [
      "     0    1   2   3    4     5      6   7  8\n",
      "0    6  148  72  35    0  33.6  0.627  50  1\n",
      "1    1   85  66  29    0  26.6  0.351  31  0\n",
      "2    8  183  64   0    0  23.3  0.672  32  1\n",
      "3    1   89  66  23   94  28.1  0.167  21  0\n",
      "4    0  137  40  35  168  43.1  2.288  33  1\n",
      "5    5  116  74   0    0  25.6  0.201  30  0\n",
      "6    3   78  50  32   88  31.0  0.248  26  1\n",
      "7   10  115   0   0    0  35.3  0.134  29  0\n",
      "8    2  197  70  45  543  30.5  0.158  53  1\n",
      "9    8  125  96   0    0   0.0  0.232  54  1\n",
      "10   4  110  92   0    0  37.6  0.191  30  0\n",
      "11  10  168  74   0    0  38.0  0.537  34  1\n",
      "12  10  139  80   0    0  27.1  1.441  57  0\n",
      "13   1  189  60  23  846  30.1  0.398  59  1\n",
      "14   5  166  72  19  175  25.8  0.587  51  1\n",
      "15   7  100   0   0    0  30.0  0.484  32  1\n",
      "16   0  118  84  47  230  45.8  0.551  31  1\n",
      "17   7  107  74   0    0  29.6  0.254  31  1\n",
      "18   1  103  30  38   83  43.3  0.183  33  0\n",
      "19   1  115  70  30   96  34.6  0.529  32  1\n"
     ]
    }
   ],
   "source": [
    "print(df.head(20))"
   ]
  },
  {
   "cell_type": "markdown",
   "metadata": {},
   "source": [
    "We can get a count of the number of missing values on each of these columns. We can do this my marking all of the values in the subset of the DataFrame we are interested in that have zero values as True. We can then count the number of true values in each column.\n",
    "\n",
    "We can do this my marking all of the values in the subset of the DataFrame we are interested in that have zero values as True. We can then count the number of true values in each column."
   ]
  },
  {
   "cell_type": "code",
   "execution_count": 8,
   "metadata": {},
   "outputs": [
    {
     "name": "stdout",
     "output_type": "stream",
     "text": [
      "1      5\n",
      "2     35\n",
      "3    227\n",
      "4    374\n",
      "5     11\n",
      "dtype: int64\n"
     ]
    }
   ],
   "source": [
    "print((df[[1,2,3,4,5]] == 0).sum())"
   ]
  },
  {
   "cell_type": "markdown",
   "metadata": {},
   "source": [
    "We can see that columns 1,2 and 5 have just a few zero values, whereas columns 3 and 4 show a lot more, nearly half of the rows. This highlights that different “missing value” strategies may be needed for different columns, e.g. to ensure that there are still a sufficient number of records left to train a predictive model.\n",
    "\n",
    "In Python, specifically Pandas, NumPy and Scikit-Learn, we mark missing values as NaN. Values with a NaN value are ignored from operations like sum, count, etc.\n",
    "\n",
    "We can mark values as NaN easily with the Pandas DataFrame by using the replace() function on a subset of the columns we are interested in.\n",
    "\n",
    "After we have marked the missing values, we can use the isnull() function to mark all of the NaN values in the dataset as True and get a count of the missing values for each column."
   ]
  },
  {
   "cell_type": "code",
   "execution_count": 9,
   "metadata": {},
   "outputs": [
    {
     "name": "stdout",
     "output_type": "stream",
     "text": [
      "0      0\n",
      "1      5\n",
      "2     35\n",
      "3    227\n",
      "4    374\n",
      "5     11\n",
      "6      0\n",
      "7      0\n",
      "8      0\n",
      "dtype: int64\n"
     ]
    }
   ],
   "source": [
    "# mark zero values as missing or NaN\n",
    "df[[1,2,3,4,5]] = df[[1,2,3,4,5]].replace(0, np.NaN)\n",
    "\n",
    "# count the number of NaN values in each column\n",
    "print(df.isnull().sum())"
   ]
  },
  {
   "cell_type": "markdown",
   "metadata": {},
   "source": [
    "Running the example prints the number of missing values in each column. We can see that the columns 1:5 have the same number of missing values as zero values identified above. This is a sign that we have marked the identified missing values correctly.\n",
    "\n",
    "We can see that the columns 1 to 5 have the same number of missing values as zero values identified above. This is a sign that we have marked the identified missing values correctly."
   ]
  },
  {
   "cell_type": "code",
   "execution_count": 10,
   "metadata": {},
   "outputs": [
    {
     "name": "stdout",
     "output_type": "stream",
     "text": [
      "     0      1     2     3      4     5      6   7  8\n",
      "0    6  148.0  72.0  35.0    NaN  33.6  0.627  50  1\n",
      "1    1   85.0  66.0  29.0    NaN  26.6  0.351  31  0\n",
      "2    8  183.0  64.0   NaN    NaN  23.3  0.672  32  1\n",
      "3    1   89.0  66.0  23.0   94.0  28.1  0.167  21  0\n",
      "4    0  137.0  40.0  35.0  168.0  43.1  2.288  33  1\n",
      "5    5  116.0  74.0   NaN    NaN  25.6  0.201  30  0\n",
      "6    3   78.0  50.0  32.0   88.0  31.0  0.248  26  1\n",
      "7   10  115.0   NaN   NaN    NaN  35.3  0.134  29  0\n",
      "8    2  197.0  70.0  45.0  543.0  30.5  0.158  53  1\n",
      "9    8  125.0  96.0   NaN    NaN   NaN  0.232  54  1\n",
      "10   4  110.0  92.0   NaN    NaN  37.6  0.191  30  0\n",
      "11  10  168.0  74.0   NaN    NaN  38.0  0.537  34  1\n",
      "12  10  139.0  80.0   NaN    NaN  27.1  1.441  57  0\n",
      "13   1  189.0  60.0  23.0  846.0  30.1  0.398  59  1\n",
      "14   5  166.0  72.0  19.0  175.0  25.8  0.587  51  1\n",
      "15   7  100.0   NaN   NaN    NaN  30.0  0.484  32  1\n",
      "16   0  118.0  84.0  47.0  230.0  45.8  0.551  31  1\n",
      "17   7  107.0  74.0   NaN    NaN  29.6  0.254  31  1\n",
      "18   1  103.0  30.0  38.0   83.0  43.3  0.183  33  0\n",
      "19   1  115.0  70.0  30.0   96.0  34.6  0.529  32  1\n"
     ]
    }
   ],
   "source": [
    "print(df.head(20))"
   ]
  },
  {
   "cell_type": "markdown",
   "metadata": {},
   "source": [
    "Running the example, we can clearly see NaN values in the columns 2, 3, 4 and 5. There are only 5 missing values in column 1, so it is not surprising we did not see an example in the first 20 rows.\n",
    "\n",
    "It is clear from the raw data that marking the missing values had the intended effect."
   ]
  },
  {
   "cell_type": "markdown",
   "metadata": {},
   "source": [
    "### 3. Missing Values Causes Problems\n",
    "\n",
    "Before we look at handling missing values, let’s first demonstrate that having missing values in a dataset can cause problems.\n",
    "\n",
    "Having missing values in a dataset can cause errors with some machine learning algorithms. We will try to evaluate a the Linear Discriminant Analysis (LDA) algorithm on the dataset with missing values. This is an algorithm that does not work when there are missing values in the dataset.\n",
    "\n",
    "The below example marks the missing values in the dataset, as we did in the previous sectio (changing 0 to Nan), then attempts to evaluate LDA using 3-fold cross validation and print the mean accuracy.\n",
    "\n",
    "*** Notes: The LDA algorithm and 3-fold cross validation will be discussed in class later. "
   ]
  },
  {
   "cell_type": "code",
   "execution_count": 11,
   "metadata": {},
   "outputs": [
    {
     "name": "stdout",
     "output_type": "stream",
     "text": [
      "nan\n"
     ]
    },
    {
     "name": "stderr",
     "output_type": "stream",
     "text": [
      "C:\\ProgramData\\Anaconda3\\lib\\site-packages\\sklearn\\model_selection\\_validation.py:372: FitFailedWarning: \n",
      "3 fits failed out of a total of 3.\n",
      "The score on these train-test partitions for these parameters will be set to nan.\n",
      "If these failures are not expected, you can try to debug them by setting error_score='raise'.\n",
      "\n",
      "Below are more details about the failures:\n",
      "--------------------------------------------------------------------------------\n",
      "3 fits failed with the following error:\n",
      "Traceback (most recent call last):\n",
      "  File \"C:\\ProgramData\\Anaconda3\\lib\\site-packages\\sklearn\\model_selection\\_validation.py\", line 680, in _fit_and_score\n",
      "    estimator.fit(X_train, y_train, **fit_params)\n",
      "  File \"C:\\ProgramData\\Anaconda3\\lib\\site-packages\\sklearn\\discriminant_analysis.py\", line 544, in fit\n",
      "    X, y = self._validate_data(\n",
      "  File \"C:\\ProgramData\\Anaconda3\\lib\\site-packages\\sklearn\\base.py\", line 581, in _validate_data\n",
      "    X, y = check_X_y(X, y, **check_params)\n",
      "  File \"C:\\ProgramData\\Anaconda3\\lib\\site-packages\\sklearn\\utils\\validation.py\", line 964, in check_X_y\n",
      "    X = check_array(\n",
      "  File \"C:\\ProgramData\\Anaconda3\\lib\\site-packages\\sklearn\\utils\\validation.py\", line 800, in check_array\n",
      "    _assert_all_finite(array, allow_nan=force_all_finite == \"allow-nan\")\n",
      "  File \"C:\\ProgramData\\Anaconda3\\lib\\site-packages\\sklearn\\utils\\validation.py\", line 114, in _assert_all_finite\n",
      "    raise ValueError(\n",
      "ValueError: Input contains NaN, infinity or a value too large for dtype('float64').\n",
      "\n",
      "  warnings.warn(some_fits_failed_message, FitFailedWarning)\n"
     ]
    }
   ],
   "source": [
    "from sklearn.discriminant_analysis import LinearDiscriminantAnalysis\n",
    "from sklearn.model_selection import KFold\n",
    "from sklearn.model_selection import cross_val_score\n",
    "\n",
    "df = pd.read_csv('./data/pima-indians-diabetes.csv', header=None)\n",
    "# mark zero values as missing or NaN\n",
    "df[[1,2,3,4,5]] = df[[1,2,3,4,5]].replace(0, np.NaN)\n",
    "\n",
    "# split dataset into inputs and outputs\n",
    "values = df.values\n",
    "X = values[:,0:8]\n",
    "y = values[:,8]\n",
    "\n",
    "# evaluate an LDA model on the dataset using k-fold cross validation\n",
    "model = LinearDiscriminantAnalysis()\n",
    "kfold = KFold(n_splits=3)\n",
    "\n",
    "result = cross_val_score(model, X, y, cv=kfold, scoring='accuracy')\n",
    "print(result.mean())"
   ]
  },
  {
   "cell_type": "markdown",
   "metadata": {},
   "source": [
    "Running the example results in an error, as follows:\n",
    "    \n",
    "This is as we expect.\n",
    "\n",
    "We are prevented from evaluating an LDA algorithm (and other algorithms) on the dataset with missing values.\n",
    "\n",
    "Now, we can look at methods to handle the missing values.\n"
   ]
  },
  {
   "cell_type": "markdown",
   "metadata": {},
   "source": [
    "### 4. Remove Rows With Missing Values\n",
    "\n",
    "The simplest strategy for handling missing data is to remove records that contain a missing value.\n",
    "\n",
    "We can do this by creating a new Pandas DataFrame with the rows containing missing values removed.\n",
    "\n",
    "Pandas provides the dropna() function that can be used to drop either columns or rows with missing data. We can use dropna() to remove all rows with missing data, as follows:"
   ]
  },
  {
   "cell_type": "code",
   "execution_count": 12,
   "metadata": {},
   "outputs": [
    {
     "name": "stdout",
     "output_type": "stream",
     "text": [
      "(392, 9)\n"
     ]
    }
   ],
   "source": [
    "dataset = pd.read_csv('./data/pima-indians-diabetes.csv', header=None)\n",
    "# mark zero values as missing or NaN\n",
    "df[[1,2,3,4,5]] = df[[1,2,3,4,5]].replace(0, np.NaN)\n",
    "\n",
    "# drop rows with missing values\n",
    "df.dropna(inplace=True)\n",
    "# summarize the number of rows and columns in the dataset\n",
    "print(df.shape)"
   ]
  },
  {
   "cell_type": "markdown",
   "metadata": {},
   "source": [
    "Running this example, we can see that the number of rows has been aggressively cut from 768 in the original dataset to 392 with all rows containing a NaN removed.\n",
    "\n",
    "We now have a dataset that we could use to evaluate an algorithm sensitive to missing values like LDA."
   ]
  },
  {
   "cell_type": "code",
   "execution_count": 13,
   "metadata": {},
   "outputs": [
    {
     "name": "stdout",
     "output_type": "stream",
     "text": [
      "0.7832648267762772\n"
     ]
    }
   ],
   "source": [
    "df = pd.read_csv('./data/pima-indians-diabetes.csv', header=None)\n",
    "# mark zero values as missing or NaN\n",
    "df[[1,2,3,4,5]] = df[[1,2,3,4,5]].replace(0, np.NaN)\n",
    "\n",
    "# drop rows with missing values\n",
    "df.dropna(inplace=True)\n",
    "# split dataset into inputs and outputs\n",
    "values = df.values\n",
    "X = values[:,0:8]\n",
    "y = values[:,8]\n",
    "# evaluate an LDA model on the dataset using k-fold cross validation\n",
    "model = LinearDiscriminantAnalysis()\n",
    "kfold = KFold(n_splits=3, random_state=7, shuffle=True)\n",
    "result = cross_val_score(model, X, y, cv=kfold, scoring='accuracy')\n",
    "print(result.mean())"
   ]
  },
  {
   "cell_type": "markdown",
   "metadata": {},
   "source": [
    "The example runs successfully and prints the accuracy of the model.\n",
    "\n",
    "Removing rows with missing values can be too limiting on some predictive modeling problems, an alternative is to impute missing values."
   ]
  },
  {
   "cell_type": "markdown",
   "metadata": {},
   "source": [
    "### 5. Impute Missing Values\n",
    "\n",
    "Imputing refers to using a model to replace missing values.\n",
    "\n",
    "There are many options we could consider when replacing a missing value, for example:\n",
    "\n",
    "- A constant value that has meaning within the domain, such as 0, distinct from all other values.\n",
    "\n",
    "- A value from another randomly selected record.\n",
    "\n",
    "- A mean, median or mode value for the column.\n",
    "\n",
    "- A value estimated by another predictive model.\n",
    "\n",
    "Any imputing performed on the training dataset will have to be performed on new data in the future when predictions are needed from the finalized model. This needs to be taken into consideration when choosing how to impute the missing values.\n",
    "\n",
    "- For example, if you choose to impute with mean column values, these mean column values will need to be stored to file for later use on new data that has missing values.\n",
    "\n",
    "Pandas provides the fillna() function for replacing missing values with a specific value.\n",
    "\n",
    "- For example, we can use fillna() to replace missing values with the mean value for each column, as follows:"
   ]
  },
  {
   "cell_type": "markdown",
   "metadata": {},
   "source": [
    "### Using Pandas"
   ]
  },
  {
   "cell_type": "code",
   "execution_count": 14,
   "metadata": {},
   "outputs": [
    {
     "name": "stdout",
     "output_type": "stream",
     "text": [
      "   0      1     2     3      4     5      6   7  8\n",
      "0  6  148.0  72.0  35.0    NaN  33.6  0.627  50  1\n",
      "1  1   85.0  66.0  29.0    NaN  26.6  0.351  31  0\n",
      "2  8  183.0  64.0   NaN    NaN  23.3  0.672  32  1\n",
      "3  1   89.0  66.0  23.0   94.0  28.1  0.167  21  0\n",
      "4  0  137.0  40.0  35.0  168.0  43.1  2.288  33  1\n",
      "   0      1     2         3           4     5      6   7  8\n",
      "0  6  148.0  72.0  35.00000  155.548223  33.6  0.627  50  1\n",
      "1  1   85.0  66.0  29.00000  155.548223  26.6  0.351  31  0\n",
      "2  8  183.0  64.0  29.15342  155.548223  23.3  0.672  32  1\n",
      "3  1   89.0  66.0  23.00000   94.000000  28.1  0.167  21  0\n",
      "4  0  137.0  40.0  35.00000  168.000000  43.1  2.288  33  1\n",
      "0    0\n",
      "1    0\n",
      "2    0\n",
      "3    0\n",
      "4    0\n",
      "5    0\n",
      "6    0\n",
      "7    0\n",
      "8    0\n",
      "dtype: int64\n"
     ]
    }
   ],
   "source": [
    "df = pd.read_csv('./data/pima-indians-diabetes.csv', header=None)\n",
    "\n",
    "# mark zero values as missing or NaN\n",
    "df[[1,2,3,4,5]] = df[[1,2,3,4,5]].replace(0, np.NaN)\n",
    "print(df.head(5))\n",
    "\n",
    "# fill missing values with mean column values\n",
    "df.fillna(df.mean(), inplace=True)\n",
    "# count the number of NaN values in each column\n",
    "\n",
    "print(df.head(5))\n",
    "\n",
    "print(df.isnull().sum())"
   ]
  },
  {
   "cell_type": "markdown",
   "metadata": {},
   "source": [
    "### Using Scikit-learn"
   ]
  },
  {
   "cell_type": "markdown",
   "metadata": {},
   "source": [
    "#### SimpleImputer\n",
    "\n",
    "The scikit-learn library provides the SimpleImputer() class that can be used to replace missing values.\n",
    "\n",
    "It is a flexible class that allows you to specify the value to replace (it can be something other than NaN) and the technique used to replace it (such as mean, median, or mode). The Imputer class operates directly on the NumPy array instead of the DataFrame.\n",
    "\n",
    "The example below uses the Imputer class to replace missing values with the mean of each column then prints the number of NaN values in the transformed matrix."
   ]
  },
  {
   "cell_type": "code",
   "execution_count": 15,
   "metadata": {},
   "outputs": [
    {
     "name": "stdout",
     "output_type": "stream",
     "text": [
      "0\n"
     ]
    }
   ],
   "source": [
    "from sklearn.impute import SimpleImputer\n",
    "\n",
    "df = pd.read_csv('./data/pima-indians-diabetes.csv', header=None)\n",
    "# mark zero values as missing or NaN\n",
    "df[[1,2,3,4,5]] = df[[1,2,3,4,5]].replace(0, np.NaN)\n",
    "\n",
    "# fill missing values with mean column values\n",
    "values = df.values\n",
    "imputer = SimpleImputer()\n",
    "transformed_values = imputer.fit_transform(values)\n",
    "\n",
    "# count the number of NaN values in each column\n",
    "print(np.isnan(transformed_values).sum())"
   ]
  },
  {
   "cell_type": "markdown",
   "metadata": {},
   "source": [
    "Running the example shows that all NaN values were imputed successfully.\n",
    "\n",
    "In either case, we can train algorithms sensitive to NaN values in the transformed dataset, such as LDA.\n",
    "\n",
    "The example below shows the LDA algorithm trained in the Imputer transformed dataset."
   ]
  },
  {
   "cell_type": "code",
   "execution_count": 16,
   "metadata": {},
   "outputs": [
    {
     "name": "stdout",
     "output_type": "stream",
     "text": [
      "0.7760416666666666\n"
     ]
    }
   ],
   "source": [
    "from sklearn.impute import SimpleImputer\n",
    "from sklearn.discriminant_analysis import LinearDiscriminantAnalysis\n",
    "from sklearn.model_selection import KFold\n",
    "from sklearn.model_selection import cross_val_score\n",
    "\n",
    "df = pd.read_csv('./data/pima-indians-diabetes.csv', header=None)\n",
    "# mark zero values as missing or NaN\n",
    "df[[1,2,3,4,5]] = df[[1,2,3,4,5]].replace(0, np.NaN)\n",
    "\n",
    "# split dataset into inputs and outputs\n",
    "values = df.values\n",
    "X = values[:,0:8]\n",
    "y = values[:,8]\n",
    "\n",
    "# fill missing values with mean column values\n",
    "imputer = SimpleImputer(strategy='constant', fill_value=1)\n",
    "transformed_X = imputer.fit_transform(X)\n",
    "\n",
    "# evaluate an LDA model on the dataset using k-fold cross validation\n",
    "model = LinearDiscriminantAnalysis()\n",
    "kfold = KFold(n_splits=3, random_state=7, shuffle=True)\n",
    "result = cross_val_score(model, transformed_X, y, cv=kfold, scoring='accuracy')\n",
    "print(result.mean())"
   ]
  },
  {
   "cell_type": "markdown",
   "metadata": {},
   "source": [
    "Running the example prints the accuracy of LDA on the transformed dataset.\n",
    "\n",
    "Try replacing the missing values with other values and see if you can lift the performance of the model.\n",
    "\n",
    "Maybe missing values have meaning in the data.\n",
    "\n",
    "Next we will look at using algorithms that treat missing values as just another value when modeling."
   ]
  },
  {
   "cell_type": "markdown",
   "metadata": {},
   "source": [
    "### 6. Algorithms that Support Missing Values\n",
    "\n",
    "Not all algorithms fail when there is missing data.\n",
    "\n",
    "There are algorithms that can be made robust to missing data, such as k-Nearest Neighbors that can ignore a column from a distance measure when a value is missing. There are also algorithms that can use the missing value as a unique and different value when building the predictive model, such as classification and regression trees. Sadly, the scikit-learn implementations of decision trees and k-Nearest Neighbors are not robust to missing values. Although it is being considered.\n",
    "\n",
    "Nevertheless, this remains as an option if you consider using another algorithm implementation (such as xgboost) or developing your own implementation."
   ]
  },
  {
   "cell_type": "markdown",
   "metadata": {},
   "source": [
    "### More details\n",
    "\n",
    "- See examples of handling missing data at Pandas: \n",
    "https://pandas.pydata.org/pandas-docs/stable/user_guide/missing_data.html\n",
    "\n",
    "- See also examples of imputating missing data at Scikit-learn:\n",
    "https://scikit-learn.org/stable/modules/impute.html#impute"
   ]
  },
  {
   "cell_type": "markdown",
   "metadata": {},
   "source": [
    "Reference:\n",
    "- Data clearning example with Pima Indians Diabetes dataset was created by Jason Brownlee and modified by Wan Bae. "
   ]
  },
  {
   "cell_type": "markdown",
   "metadata": {},
   "source": [
    "## ME2 Part 1\n",
    "\n",
    "Dataset: ./data/daily-temperatures.csv\n",
    "\n",
    "Daily minimum and maximum temperatures (in Celsius) in Melbourne, Australia, 1981-1990\n",
    "\n",
    "Source: Time Series Data Library (citing: Australian Bureau of Meteorology)\n",
    "\n",
    "\n",
    "This dataset has known missing values and also incorrect values\n",
    "\n",
    "- no value is reported so no value in some cells\n",
    "\n",
    "- invalid values for temperature: You can see some temprature values >= 200 and <= -800, which are invalid\n",
    "\n",
    "(1) First, you may want to plot the each max temperature and min temperature or both to check the ranges of the data. You may find something incorrect from the plot(s).\n",
    "\n",
    "(2) Discuss how you would handle these values: missing values and invalid values\n",
    "\n",
    "(3) Use tools (in Pandas and Scikit-learn) we talked about in the above examples to process data.\n",
    "\n",
    "(4) Visualize the data. "
   ]
  },
  {
   "cell_type": "code",
   "execution_count": 33,
   "metadata": {},
   "outputs": [
    {
     "name": "stdout",
     "output_type": "stream",
     "text": [
      "          Date max_temperature  min_temperature\n",
      "count     3650            3643      3645.000000\n",
      "unique    3650             310              NaN\n",
      "top     1/1/81            18.5              NaN\n",
      "freq         1              42              NaN\n",
      "mean       NaN             NaN         9.605569\n",
      "std        NaN             NaN        35.749821\n",
      "min        NaN             NaN      -800.000000\n",
      "25%        NaN             NaN         8.300000\n",
      "50%        NaN             NaN        11.000000\n",
      "75%        NaN             NaN        13.900000\n",
      "max        NaN             NaN        26.300000\n"
     ]
    },
    {
     "data": {
      "text/html": [
       "<div>\n",
       "<style scoped>\n",
       "    .dataframe tbody tr th:only-of-type {\n",
       "        vertical-align: middle;\n",
       "    }\n",
       "\n",
       "    .dataframe tbody tr th {\n",
       "        vertical-align: top;\n",
       "    }\n",
       "\n",
       "    .dataframe thead th {\n",
       "        text-align: right;\n",
       "    }\n",
       "</style>\n",
       "<table border=\"1\" class=\"dataframe\">\n",
       "  <thead>\n",
       "    <tr style=\"text-align: right;\">\n",
       "      <th></th>\n",
       "      <th>Date</th>\n",
       "      <th>max_temperature</th>\n",
       "      <th>min_temperature</th>\n",
       "    </tr>\n",
       "  </thead>\n",
       "  <tbody>\n",
       "    <tr>\n",
       "      <th>0</th>\n",
       "      <td>1/1/81</td>\n",
       "      <td>38.1</td>\n",
       "      <td>20.7</td>\n",
       "    </tr>\n",
       "    <tr>\n",
       "      <th>1</th>\n",
       "      <td>1/2/81</td>\n",
       "      <td>NaN</td>\n",
       "      <td>17.9</td>\n",
       "    </tr>\n",
       "    <tr>\n",
       "      <th>2</th>\n",
       "      <td>1/3/81</td>\n",
       "      <td>34.5</td>\n",
       "      <td>18.8</td>\n",
       "    </tr>\n",
       "    <tr>\n",
       "      <th>3</th>\n",
       "      <td>1/4/81</td>\n",
       "      <td>20.7</td>\n",
       "      <td>14.6</td>\n",
       "    </tr>\n",
       "    <tr>\n",
       "      <th>4</th>\n",
       "      <td>1/5/81</td>\n",
       "      <td>21.5</td>\n",
       "      <td>15.8</td>\n",
       "    </tr>\n",
       "    <tr>\n",
       "      <th>5</th>\n",
       "      <td>1/6/81</td>\n",
       "      <td>300</td>\n",
       "      <td>-800.0</td>\n",
       "    </tr>\n",
       "    <tr>\n",
       "      <th>6</th>\n",
       "      <td>1/7/81</td>\n",
       "      <td>29.7</td>\n",
       "      <td>15.8</td>\n",
       "    </tr>\n",
       "    <tr>\n",
       "      <th>7</th>\n",
       "      <td>1/8/81</td>\n",
       "      <td>36.6</td>\n",
       "      <td>17.4</td>\n",
       "    </tr>\n",
       "    <tr>\n",
       "      <th>8</th>\n",
       "      <td>1/9/81</td>\n",
       "      <td>NaN</td>\n",
       "      <td>21.8</td>\n",
       "    </tr>\n",
       "    <tr>\n",
       "      <th>9</th>\n",
       "      <td>1/10/81</td>\n",
       "      <td>300</td>\n",
       "      <td>20.0</td>\n",
       "    </tr>\n",
       "    <tr>\n",
       "      <th>10</th>\n",
       "      <td>1/11/81</td>\n",
       "      <td>20.4</td>\n",
       "      <td>16.2</td>\n",
       "    </tr>\n",
       "    <tr>\n",
       "      <th>11</th>\n",
       "      <td>1/12/81</td>\n",
       "      <td>30.1</td>\n",
       "      <td>13.3</td>\n",
       "    </tr>\n",
       "    <tr>\n",
       "      <th>12</th>\n",
       "      <td>1/13/81</td>\n",
       "      <td>38.7</td>\n",
       "      <td>16.7</td>\n",
       "    </tr>\n",
       "    <tr>\n",
       "      <th>13</th>\n",
       "      <td>1/14/81</td>\n",
       "      <td>41.4</td>\n",
       "      <td>21.5</td>\n",
       "    </tr>\n",
       "    <tr>\n",
       "      <th>14</th>\n",
       "      <td>1/15/81</td>\n",
       "      <td>300</td>\n",
       "      <td>25.0</td>\n",
       "    </tr>\n",
       "    <tr>\n",
       "      <th>15</th>\n",
       "      <td>1/16/81</td>\n",
       "      <td>36</td>\n",
       "      <td>-800.0</td>\n",
       "    </tr>\n",
       "    <tr>\n",
       "      <th>16</th>\n",
       "      <td>1/17/81</td>\n",
       "      <td>NaN</td>\n",
       "      <td>20.6</td>\n",
       "    </tr>\n",
       "    <tr>\n",
       "      <th>17</th>\n",
       "      <td>1/18/81</td>\n",
       "      <td>38</td>\n",
       "      <td>24.8</td>\n",
       "    </tr>\n",
       "    <tr>\n",
       "      <th>18</th>\n",
       "      <td>1/19/81</td>\n",
       "      <td>23</td>\n",
       "      <td>17.7</td>\n",
       "    </tr>\n",
       "    <tr>\n",
       "      <th>19</th>\n",
       "      <td>1/20/81</td>\n",
       "      <td>300</td>\n",
       "      <td>15.5</td>\n",
       "    </tr>\n",
       "  </tbody>\n",
       "</table>\n",
       "</div>"
      ],
      "text/plain": [
       "       Date max_temperature  min_temperature\n",
       "0    1/1/81            38.1             20.7\n",
       "1    1/2/81             NaN             17.9\n",
       "2    1/3/81            34.5             18.8\n",
       "3    1/4/81            20.7             14.6\n",
       "4    1/5/81            21.5             15.8\n",
       "5    1/6/81             300           -800.0\n",
       "6    1/7/81            29.7             15.8\n",
       "7    1/8/81            36.6             17.4\n",
       "8    1/9/81             NaN             21.8\n",
       "9   1/10/81             300             20.0\n",
       "10  1/11/81            20.4             16.2\n",
       "11  1/12/81            30.1             13.3\n",
       "12  1/13/81            38.7             16.7\n",
       "13  1/14/81            41.4             21.5\n",
       "14  1/15/81             300             25.0\n",
       "15  1/16/81              36           -800.0\n",
       "16  1/17/81             NaN             20.6\n",
       "17  1/18/81              38             24.8\n",
       "18  1/19/81              23             17.7\n",
       "19  1/20/81             300             15.5"
      ]
     },
     "execution_count": 33,
     "metadata": {},
     "output_type": "execute_result"
    },
    {
     "data": {
      "text/plain": [
       "Date                object\n",
       "max_temperature     object\n",
       "min_temperature    float64\n",
       "dtype: object"
      ]
     },
     "execution_count": 33,
     "metadata": {},
     "output_type": "execute_result"
    },
    {
     "data": {
      "text/plain": [
       "<AxesSubplot:xlabel='Date'>"
      ]
     },
     "execution_count": 33,
     "metadata": {},
     "output_type": "execute_result"
    },
    {
     "ename": "TypeError",
     "evalue": "no numeric data to plot",
     "output_type": "error",
     "traceback": [
      "\u001b[1;31m---------------------------------------------------------------------------\u001b[0m",
      "\u001b[1;31mTypeError\u001b[0m                                 Traceback (most recent call last)",
      "Input \u001b[1;32mIn [33]\u001b[0m, in \u001b[0;36m<cell line: 11>\u001b[1;34m()\u001b[0m\n\u001b[0;32m      8\u001b[0m temps\u001b[38;5;241m.\u001b[39mdtypes\n\u001b[0;32m     10\u001b[0m temps\u001b[38;5;241m.\u001b[39mplot(x \u001b[38;5;241m=\u001b[39m \u001b[38;5;124m'\u001b[39m\u001b[38;5;124mDate\u001b[39m\u001b[38;5;124m'\u001b[39m, y \u001b[38;5;241m=\u001b[39m \u001b[38;5;124m'\u001b[39m\u001b[38;5;124mmin_temperature\u001b[39m\u001b[38;5;124m'\u001b[39m)\n\u001b[1;32m---> 11\u001b[0m \u001b[43mtemps\u001b[49m\u001b[38;5;241;43m.\u001b[39;49m\u001b[43mplot\u001b[49m\u001b[43m(\u001b[49m\u001b[43mx\u001b[49m\u001b[43m \u001b[49m\u001b[38;5;241;43m=\u001b[39;49m\u001b[43m \u001b[49m\u001b[38;5;124;43m'\u001b[39;49m\u001b[38;5;124;43mDate\u001b[39;49m\u001b[38;5;124;43m'\u001b[39;49m\u001b[43m,\u001b[49m\u001b[43m \u001b[49m\u001b[43my\u001b[49m\u001b[43m \u001b[49m\u001b[38;5;241;43m=\u001b[39;49m\u001b[43m \u001b[49m\u001b[38;5;124;43m'\u001b[39;49m\u001b[38;5;124;43mmax_temperature\u001b[39;49m\u001b[38;5;124;43m'\u001b[39;49m\u001b[43m)\u001b[49m\n",
      "File \u001b[1;32mC:\\ProgramData\\Anaconda3\\lib\\site-packages\\pandas\\plotting\\_core.py:972\u001b[0m, in \u001b[0;36mPlotAccessor.__call__\u001b[1;34m(self, *args, **kwargs)\u001b[0m\n\u001b[0;32m    969\u001b[0m             label_name \u001b[38;5;241m=\u001b[39m label_kw \u001b[38;5;129;01mor\u001b[39;00m data\u001b[38;5;241m.\u001b[39mcolumns\n\u001b[0;32m    970\u001b[0m             data\u001b[38;5;241m.\u001b[39mcolumns \u001b[38;5;241m=\u001b[39m label_name\n\u001b[1;32m--> 972\u001b[0m \u001b[38;5;28;01mreturn\u001b[39;00m plot_backend\u001b[38;5;241m.\u001b[39mplot(data, kind\u001b[38;5;241m=\u001b[39mkind, \u001b[38;5;241m*\u001b[39m\u001b[38;5;241m*\u001b[39mkwargs)\n",
      "File \u001b[1;32mC:\\ProgramData\\Anaconda3\\lib\\site-packages\\pandas\\plotting\\_matplotlib\\__init__.py:71\u001b[0m, in \u001b[0;36mplot\u001b[1;34m(data, kind, **kwargs)\u001b[0m\n\u001b[0;32m     69\u001b[0m         kwargs[\u001b[38;5;124m\"\u001b[39m\u001b[38;5;124max\u001b[39m\u001b[38;5;124m\"\u001b[39m] \u001b[38;5;241m=\u001b[39m \u001b[38;5;28mgetattr\u001b[39m(ax, \u001b[38;5;124m\"\u001b[39m\u001b[38;5;124mleft_ax\u001b[39m\u001b[38;5;124m\"\u001b[39m, ax)\n\u001b[0;32m     70\u001b[0m plot_obj \u001b[38;5;241m=\u001b[39m PLOT_CLASSES[kind](data, \u001b[38;5;241m*\u001b[39m\u001b[38;5;241m*\u001b[39mkwargs)\n\u001b[1;32m---> 71\u001b[0m \u001b[43mplot_obj\u001b[49m\u001b[38;5;241;43m.\u001b[39;49m\u001b[43mgenerate\u001b[49m\u001b[43m(\u001b[49m\u001b[43m)\u001b[49m\n\u001b[0;32m     72\u001b[0m plot_obj\u001b[38;5;241m.\u001b[39mdraw()\n\u001b[0;32m     73\u001b[0m \u001b[38;5;28;01mreturn\u001b[39;00m plot_obj\u001b[38;5;241m.\u001b[39mresult\n",
      "File \u001b[1;32mC:\\ProgramData\\Anaconda3\\lib\\site-packages\\pandas\\plotting\\_matplotlib\\core.py:327\u001b[0m, in \u001b[0;36mMPLPlot.generate\u001b[1;34m(self)\u001b[0m\n\u001b[0;32m    325\u001b[0m \u001b[38;5;28;01mdef\u001b[39;00m \u001b[38;5;21mgenerate\u001b[39m(\u001b[38;5;28mself\u001b[39m):\n\u001b[0;32m    326\u001b[0m     \u001b[38;5;28mself\u001b[39m\u001b[38;5;241m.\u001b[39m_args_adjust()\n\u001b[1;32m--> 327\u001b[0m     \u001b[38;5;28;43mself\u001b[39;49m\u001b[38;5;241;43m.\u001b[39;49m\u001b[43m_compute_plot_data\u001b[49m\u001b[43m(\u001b[49m\u001b[43m)\u001b[49m\n\u001b[0;32m    328\u001b[0m     \u001b[38;5;28mself\u001b[39m\u001b[38;5;241m.\u001b[39m_setup_subplots()\n\u001b[0;32m    329\u001b[0m     \u001b[38;5;28mself\u001b[39m\u001b[38;5;241m.\u001b[39m_make_plot()\n",
      "File \u001b[1;32mC:\\ProgramData\\Anaconda3\\lib\\site-packages\\pandas\\plotting\\_matplotlib\\core.py:506\u001b[0m, in \u001b[0;36mMPLPlot._compute_plot_data\u001b[1;34m(self)\u001b[0m\n\u001b[0;32m    504\u001b[0m \u001b[38;5;66;03m# no non-numeric frames or series allowed\u001b[39;00m\n\u001b[0;32m    505\u001b[0m \u001b[38;5;28;01mif\u001b[39;00m is_empty:\n\u001b[1;32m--> 506\u001b[0m     \u001b[38;5;28;01mraise\u001b[39;00m \u001b[38;5;167;01mTypeError\u001b[39;00m(\u001b[38;5;124m\"\u001b[39m\u001b[38;5;124mno numeric data to plot\u001b[39m\u001b[38;5;124m\"\u001b[39m)\n\u001b[0;32m    508\u001b[0m \u001b[38;5;28mself\u001b[39m\u001b[38;5;241m.\u001b[39mdata \u001b[38;5;241m=\u001b[39m numeric_data\u001b[38;5;241m.\u001b[39mapply(\u001b[38;5;28mself\u001b[39m\u001b[38;5;241m.\u001b[39m_convert_to_ndarray)\n",
      "\u001b[1;31mTypeError\u001b[0m: no numeric data to plot"
     ]
    },
    {
     "data": {
      "image/png": "[encoded data removed]",
      "text/plain": [
       "<Figure size 1440x360 with 1 Axes>"
      ]
     },
     "metadata": {
      "needs_background": "light"
     },
     "output_type": "display_data"
    }
   ],
   "source": [
    "#1)\n",
    "temps = pd.read_csv('./data/daily-temperatures.csv')\n",
    "\n",
    "print(temps.describe(include='all'))\n",
    "\n",
    "temps.head(20)\n",
    "\n",
    "temps.dtypes\n",
    "\n",
    "temps.plot(x = 'Date', y = 'min_temperature')\n",
    "temps.plot(x = 'Date', y = 'max_temperature')"
   ]
  },
  {
   "cell_type": "code",
   "execution_count": null,
   "metadata": {},
   "outputs": [],
   "source": [
    "#2)\n",
    "# I would convert all of the columns to correct data types. The dates to datetimes and the mintemps to numeric types.\n",
    "# To clean the invlid data I would convert any temps below -2.8 or above 46.4 (the respective high and low temp records\n",
    "# for Melbourne, Aus) to NaNs\n",
    "# I would then use the interpolate funtion using the time method (since linear assumes linear distrubution and time takes \n",
    "# continuous records into account better)"
   ]
  },
  {
   "cell_type": "code",
   "execution_count": 34,
   "metadata": {},
   "outputs": [
    {
     "data": {
      "text/plain": [
       "Date               datetime64[ns]\n",
       "max_temperature           float64\n",
       "min_temperature           float64\n",
       "dtype: object"
      ]
     },
     "execution_count": 34,
     "metadata": {},
     "output_type": "execute_result"
    },
    {
     "name": "stdout",
     "output_type": "stream",
     "text": [
      "max_temperature    0\n",
      "min_temperature    0\n",
      "dtype: int64\n"
     ]
    },
    {
     "data": {
      "text/html": [
       "<div>\n",
       "<style scoped>\n",
       "    .dataframe tbody tr th:only-of-type {\n",
       "        vertical-align: middle;\n",
       "    }\n",
       "\n",
       "    .dataframe tbody tr th {\n",
       "        vertical-align: top;\n",
       "    }\n",
       "\n",
       "    .dataframe thead th {\n",
       "        text-align: right;\n",
       "    }\n",
       "</style>\n",
       "<table border=\"1\" class=\"dataframe\">\n",
       "  <thead>\n",
       "    <tr style=\"text-align: right;\">\n",
       "      <th></th>\n",
       "      <th>max_temperature</th>\n",
       "      <th>min_temperature</th>\n",
       "    </tr>\n",
       "    <tr>\n",
       "      <th>Date</th>\n",
       "      <th></th>\n",
       "      <th></th>\n",
       "    </tr>\n",
       "  </thead>\n",
       "  <tbody>\n",
       "    <tr>\n",
       "      <th>1981-01-01</th>\n",
       "      <td>38.10</td>\n",
       "      <td>20.7</td>\n",
       "    </tr>\n",
       "    <tr>\n",
       "      <th>1981-01-02</th>\n",
       "      <td>36.30</td>\n",
       "      <td>17.9</td>\n",
       "    </tr>\n",
       "    <tr>\n",
       "      <th>1981-01-03</th>\n",
       "      <td>34.50</td>\n",
       "      <td>18.8</td>\n",
       "    </tr>\n",
       "    <tr>\n",
       "      <th>1981-01-04</th>\n",
       "      <td>20.70</td>\n",
       "      <td>14.6</td>\n",
       "    </tr>\n",
       "    <tr>\n",
       "      <th>1981-01-05</th>\n",
       "      <td>21.50</td>\n",
       "      <td>15.8</td>\n",
       "    </tr>\n",
       "    <tr>\n",
       "      <th>1981-01-06</th>\n",
       "      <td>25.60</td>\n",
       "      <td>15.8</td>\n",
       "    </tr>\n",
       "    <tr>\n",
       "      <th>1981-01-07</th>\n",
       "      <td>29.70</td>\n",
       "      <td>15.8</td>\n",
       "    </tr>\n",
       "    <tr>\n",
       "      <th>1981-01-08</th>\n",
       "      <td>36.60</td>\n",
       "      <td>17.4</td>\n",
       "    </tr>\n",
       "    <tr>\n",
       "      <th>1981-01-09</th>\n",
       "      <td>31.20</td>\n",
       "      <td>21.8</td>\n",
       "    </tr>\n",
       "    <tr>\n",
       "      <th>1981-01-10</th>\n",
       "      <td>25.80</td>\n",
       "      <td>20.0</td>\n",
       "    </tr>\n",
       "    <tr>\n",
       "      <th>1981-01-11</th>\n",
       "      <td>20.40</td>\n",
       "      <td>16.2</td>\n",
       "    </tr>\n",
       "    <tr>\n",
       "      <th>1981-01-12</th>\n",
       "      <td>30.10</td>\n",
       "      <td>13.3</td>\n",
       "    </tr>\n",
       "    <tr>\n",
       "      <th>1981-01-13</th>\n",
       "      <td>38.70</td>\n",
       "      <td>16.7</td>\n",
       "    </tr>\n",
       "    <tr>\n",
       "      <th>1981-01-14</th>\n",
       "      <td>41.40</td>\n",
       "      <td>21.5</td>\n",
       "    </tr>\n",
       "    <tr>\n",
       "      <th>1981-01-15</th>\n",
       "      <td>38.70</td>\n",
       "      <td>25.0</td>\n",
       "    </tr>\n",
       "    <tr>\n",
       "      <th>1981-01-16</th>\n",
       "      <td>36.00</td>\n",
       "      <td>22.8</td>\n",
       "    </tr>\n",
       "    <tr>\n",
       "      <th>1981-01-17</th>\n",
       "      <td>37.00</td>\n",
       "      <td>20.6</td>\n",
       "    </tr>\n",
       "    <tr>\n",
       "      <th>1981-01-18</th>\n",
       "      <td>38.00</td>\n",
       "      <td>24.8</td>\n",
       "    </tr>\n",
       "    <tr>\n",
       "      <th>1981-01-19</th>\n",
       "      <td>23.00</td>\n",
       "      <td>17.7</td>\n",
       "    </tr>\n",
       "    <tr>\n",
       "      <th>1981-01-20</th>\n",
       "      <td>25.25</td>\n",
       "      <td>15.5</td>\n",
       "    </tr>\n",
       "  </tbody>\n",
       "</table>\n",
       "</div>"
      ],
      "text/plain": [
       "            max_temperature  min_temperature\n",
       "Date                                        \n",
       "1981-01-01            38.10             20.7\n",
       "1981-01-02            36.30             17.9\n",
       "1981-01-03            34.50             18.8\n",
       "1981-01-04            20.70             14.6\n",
       "1981-01-05            21.50             15.8\n",
       "1981-01-06            25.60             15.8\n",
       "1981-01-07            29.70             15.8\n",
       "1981-01-08            36.60             17.4\n",
       "1981-01-09            31.20             21.8\n",
       "1981-01-10            25.80             20.0\n",
       "1981-01-11            20.40             16.2\n",
       "1981-01-12            30.10             13.3\n",
       "1981-01-13            38.70             16.7\n",
       "1981-01-14            41.40             21.5\n",
       "1981-01-15            38.70             25.0\n",
       "1981-01-16            36.00             22.8\n",
       "1981-01-17            37.00             20.6\n",
       "1981-01-18            38.00             24.8\n",
       "1981-01-19            23.00             17.7\n",
       "1981-01-20            25.25             15.5"
      ]
     },
     "execution_count": 34,
     "metadata": {},
     "output_type": "execute_result"
    }
   ],
   "source": [
    "#3)\n",
    "\n",
    "#Convert data types\n",
    "temps['max_temperature'] = pd.to_numeric(temps['max_temperature'], errors='coerce')\n",
    "temps['Date'] = pd.to_datetime(temps['Date'])\n",
    "#check the datatypes\n",
    "temps.dtypes\n",
    "\n",
    "#Set date as index to allow time interpolation\n",
    "temps.set_index('Date', inplace=True)\n",
    "\n",
    "#filter outliers\n",
    "temps.loc[(temps['min_temperature'] < -2.8) | (temps['min_temperature'] > 46.4), 'min_temperature'] = np.nan\n",
    "temps.loc[(temps['max_temperature'] < -2.8) | (temps['max_temperature'] > 46.4), 'max_temperature'] = np.nan\n",
    "\n",
    "#interpolate temperatires\n",
    "temps['max_temperature'].interpolate(inplace=True, method='time')\n",
    "temps['min_temperature'].interpolate(inplace=True, method='time')\n",
    "\n",
    "#check again\n",
    "print(temps.isnull().sum())\n",
    "temps.head(20)\n",
    "\n",
    "\n"
   ]
  },
  {
   "cell_type": "code",
   "execution_count": 14,
   "metadata": {
    "scrolled": true
   },
   "outputs": [
    {
     "data": {
      "text/plain": [
       "[<matplotlib.lines.Line2D at 0x1a8b4fb7370>]"
      ]
     },
     "execution_count": 14,
     "metadata": {},
     "output_type": "execute_result"
    },
    {
     "data": {
      "text/plain": [
       "[<matplotlib.lines.Line2D at 0x1a8b4c32220>]"
      ]
     },
     "execution_count": 14,
     "metadata": {},
     "output_type": "execute_result"
    },
    {
     "data": {
      "text/plain": [
       "Text(0.5, 0, 'Date')"
      ]
     },
     "execution_count": 14,
     "metadata": {},
     "output_type": "execute_result"
    },
    {
     "data": {
      "text/plain": [
       "Text(0, 0.5, 'Temperature')"
      ]
     },
     "execution_count": 14,
     "metadata": {},
     "output_type": "execute_result"
    },
    {
     "data": {
      "text/plain": [
       "<matplotlib.legend.Legend at 0x1a8b4c32a90>"
      ]
     },
     "execution_count": 14,
     "metadata": {},
     "output_type": "execute_result"
    },
    {
     "data": {
      "text/plain": [
       "<function matplotlib.pyplot.show(close=None, block=None)>"
      ]
     },
     "execution_count": 14,
     "metadata": {},
     "output_type": "execute_result"
    },
    {
     "data": {
      "image/png": "[encoded data removed]",
      "text/plain": [
       "<Figure size 1440x360 with 1 Axes>"
      ]
     },
     "metadata": {
      "needs_background": "light"
     },
     "output_type": "display_data"
    }
   ],
   "source": [
    "plt.rcParams['figure.figsize'] = [20, 5]\n",
    "plt.plot(temps.Date, temps.min_temperature, label = 'Min Temperature')\n",
    "plt.plot(temps.Date, temps.max_temperature, label = 'Max Temperature')\n",
    "plt.xlabel('Date')\n",
    "plt.ylabel('Temperature')\n",
    "plt.legend()\n",
    "plt.show"
   ]
  },
  {
   "cell_type": "markdown",
   "metadata": {},
   "source": [
    "### Part 2\n",
    "Write a summary of what your team has learned from this process. Submit your report to Canvas. "
   ]
  },
  {
   "cell_type": "code",
   "execution_count": null,
   "metadata": {},
   "outputs": [],
   "source": [
    "# We learned a lot about cleaning data up. Specifically how to think through and trouble shoot the process. \n",
    "# Our data contains missing values, incorrect values, massive outliers, errors, and was often poorly formattated. \n",
    "# Converting the numeric data was probably the most difficult part since there were multiple kinds of problems with the max temps.\n",
    "# I imagine this is how data comes to you more often than not. In the end we were able to clean up the data well enough \n",
    "# to see a complete picture of temperature data from Melbourne Austrailia from 1981 to 1991."
   ]
  }
 ],
 "metadata": {
  "kernelspec": {
   "display_name": "Python 3 (ipykernel)",
   "language": "python",
   "name": "python3"
  },
  "language_info": {
   "codemirror_mode": {
    "name": "ipython",
    "version": 3
   },
   "file_extension": ".py",
   "mimetype": "text/x-python",
   "name": "python",
   "nbconvert_exporter": "python",
   "pygments_lexer": "ipython3",
   "version": "3.9.12"
  }
 },
 "nbformat": 4,
 "nbformat_minor": 2
}
